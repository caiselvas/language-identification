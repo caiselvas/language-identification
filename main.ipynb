{
 "cells": [
  {
   "cell_type": "markdown",
   "metadata": {},
   "source": [
    "# **PRÀCTICA 1: Identificació d'idioma**"
   ]
  },
  {
   "cell_type": "markdown",
   "metadata": {},
   "source": [
    "# Main program"
   ]
  },
  {
   "cell_type": "markdown",
   "metadata": {},
   "source": [
    "## Setup"
   ]
  },
  {
   "cell_type": "code",
   "execution_count": 1,
   "metadata": {},
   "outputs": [],
   "source": [
    "import math\n",
    "import json\n",
    "from typing import Callable\n",
    "from functions import *\n",
    "import numpy as np"
   ]
  },
  {
   "cell_type": "code",
   "execution_count": 2,
   "metadata": {},
   "outputs": [],
   "source": [
    "# Load trigrams and unique characters from json files\n",
    "def dict_string_to_trigramtuple(d: dict) -> dict:\n",
    "    return {key: {tuple(k): v for k, v in value.items()} for key, value in d.items()}\n",
    "\n",
    "def refactor_validation(d: dict) -> dict:\n",
    "    return {key: ({tuple(k2): v2 for k2, v2 in value[0].items()}, value[1]) for key, value in d.items()}\n",
    "\n",
    "trigrams = dict_string_to_trigramtuple(json.load(open('./weights/trigrams.json')))\n",
    "unique_chars = json.load(open('./weights/unique_chars.json'))\n",
    "\n",
    "# Load preprocessed data (train and test)\n",
    "train = json.load(open('./preprocessed_langId/train.json'))\n",
    "test = json.load(open('./preprocessed_langId/test.json'))\n",
    "\n",
    "validation_trigrams = refactor_validation(json.load(open('./weights/validation_trigrams.json')))\n",
    "validation_unique = json.load(open('./weights/validation_unique_chars.json'))\n"
   ]
  },
  {
   "cell_type": "code",
   "execution_count": 3,
   "metadata": {},
   "outputs": [],
   "source": [
    "# Dictionaries to optimize Lidstone smoothing calculation\n",
    "b_value_dict = {key: value ** 3 for key, value in unique_chars.items()}\n",
    "totals = {key: sum(trigrams[key].values()) for key in trigrams.keys()}"
   ]
  },
  {
   "cell_type": "code",
   "execution_count": 4,
   "metadata": {},
   "outputs": [
    {
     "name": "stdout",
     "output_type": "stream",
     "text": [
      "('fra', -166.19743069715162)\n",
      "Français (French): 86.91023725963916\n",
      "Español (Spanish): 12.770262403284294\n",
      "English (English): 0.30295865945918454\n",
      "Italiano (Italian): 0.015495148206571356\n",
      "Deutsch (German): 0.0008407386526095491\n",
      "Nederlands (Dutch): 0.00020579075819388392\n"
     ]
    }
   ],
   "source": [
    "# Test the Lidstone smoothing\n",
    "text = '  on a su en profiter  '\n",
    "probs = []\n",
    "languages = {\"deu\": \"Deutsch (German)\", \n",
    "             \"eng\": \"English (English)\", \n",
    "             \"fra\": \"Français (French)\", \n",
    "             \"ita\": \"Italiano (Italian)\", \n",
    "             \"spa\": \"Español (Spanish)\", \n",
    "             \"nld\": \"Nederlands (Dutch)\"}\n",
    "total_trigrams = {key: sum(dicts.values()) for key, dicts in trigrams.items()}\n",
    "for language in trigrams.keys():\n",
    "    prob = probs_total(b_value=b_value_dict[language], text=text, model=trigrams[language], total_trigrams=total_trigrams[language], smooth=absolute_discounting, param=0.1,)\n",
    "    probs.append((language, prob))\n",
    "max_probs = max(probs, key = lambda x: x[1])\n",
    "print(max_probs)\n",
    "probs = sorted(probs, key = lambda x: x[1], reverse=True)\n",
    "\n",
    "# Normalize the probabilities and print the results\n",
    "exp = [math.exp(p[1] - max_probs[1]) for p in probs]\n",
    "normalize = [(e / sum (exp))*100 for e in exp]\n",
    "lang = [languages[p[0]] for p in probs]\n",
    "for e in range(len(lang)):\n",
    "    print(f\"{lang[e]}: {normalize[e]}\")"
   ]
  },
  {
   "cell_type": "markdown",
   "metadata": {},
   "source": [
    "## Validation"
   ]
  },
  {
   "cell_type": "code",
   "execution_count": 5,
   "metadata": {},
   "outputs": [],
   "source": [
    "unique_trigrams = set()\n",
    "for k in trigrams.keys():\n",
    "    unique_trigrams.update(set(trigrams[k].keys()))\n",
    "\n",
    "def create_prob_dict(b_value_dict: dict = b_value_dict, smooth: Callable = lidstone_smooth, param: float = 0.5, model: dict = trigrams, total: dict = totals, unique: set = unique_trigrams):\n",
    "    d = {}\n",
    "    for lang in languages.keys():\n",
    "        probab = {tri: math.log(smooth(param, trigram=tri, b_value=b_value_dict[lang], trigram_counts=model[lang], total_trigrams=total[lang])) for tri in unique}\n",
    "        d[lang] = probab\n",
    "    return d"
   ]
  },
  {
   "cell_type": "code",
   "execution_count": 6,
   "metadata": {},
   "outputs": [],
   "source": [
    "val_train = {key: value[0] for key, value in validation_trigrams.items()}\n",
    "val_test = {key: value[1] for key, value in validation_trigrams.items()}"
   ]
  },
  {
   "cell_type": "code",
   "execution_count": 7,
   "metadata": {},
   "outputs": [],
   "source": [
    "def accuracy_validation(smooth: Callable = lidstone_smooth, param: float = 0.5):\n",
    "    validation_errors = []\n",
    "    totals_val = {key: sum(val_train[key].values()) for key in val_train.keys()}\n",
    "    probabilities = create_prob_dict(b_value_dict=b_value_dict, smooth=smooth, param=param, model=val_train, total=totals_val, unique=unique_trigrams)\n",
    "    for lang in languages.keys():\n",
    "        for sentence in val_test[lang]:\n",
    "            probs = []\n",
    "            for ling in languages.keys():\n",
    "                prob = probs_total(model = val_train[ling], param=param, text=sentence, smooth=smooth, b_value=b_value_dict[ling], probabilities=probabilities[ling], total_trigrams=totals_val[ling])\n",
    "                probs.append((ling, prob))\n",
    "            max_prob = max(probs, key = lambda x: x[1])\n",
    "            if max_prob[0] != lang:\n",
    "                validation_errors.append({\"text\": sentence, \"true\": lang, \"pred\": max_prob[0]})\n",
    "    return validation_errors"
   ]
  },
  {
   "cell_type": "code",
   "execution_count": null,
   "metadata": {},
   "outputs": [],
   "source": [
    "smoothing_functions = [lidstone_smooth, linear_discounting, absolute_discounting]\n",
    "alphas = [0.05, 0.1, 0.2, 0.25, 0.3, 0.5, 0.7, 1]\n",
    "\n",
    "i = 0\n",
    "for func in smoothing_functions:\n",
    "    for alph in alphas:\n",
    "        if alph == 1 and (func == linear_discounting or func == absolute_discounting):\n",
    "            break\n",
    "        print(f\"Iteration {i}: alpha {alph}, smoothing {func.__name__}\")\n",
    "        err = accuracy_validation(func, alph)\n",
    "        print(f\"{len(err)} errors.\")\n",
    "        i += 1"
   ]
  },
  {
   "cell_type": "markdown",
   "metadata": {},
   "source": [
    "## Test"
   ]
  },
  {
   "cell_type": "code",
   "execution_count": 8,
   "metadata": {},
   "outputs": [
    {
     "name": "stdout",
     "output_type": "stream",
     "text": [
      "Total errors: 104 out of 59977 sentences.\n",
      "Total accuracy: 0.9982660019674209\n",
      "*Accuracy deu: 0.9987987987987988\n",
      "*Accuracy eng: 0.99969960949234\n",
      "*Accuracy fra: 0.9985\n",
      "*Accuracy ita: 0.9976\n",
      "*Accuracy nld: 0.9962\n",
      "*Accuracy spa: 0.9988\n"
     ]
    },
    {
     "data": {
      "image/png": "[encoded data removed]",
      "text/plain": [
       "<Figure size 640x480 with 2 Axes>"
      ]
     },
     "metadata": {},
     "output_type": "display_data"
    },
    {
     "name": "stdout",
     "output_type": "stream",
     "text": [
      "WRONG PREDICTIONS:\n",
      "*True: deu, Predicted: spa, Text: \"  autos wie den dacia sandero.  \"\n",
      "*True: deu, Predicted: nld, Text: \"  bildergalerie teilen der donkervoort d gto ist ja per se nicht gerade ein warmduscherauto.  \"\n",
      "*True: deu, Predicted: eng, Text: \"  darunter das restaurant mappamondo und der takeawaybetrieb the beef burger.  \"\n",
      "*True: deu, Predicted: nld, Text: \"  der stoffbeutel war leer.  \"\n",
      "*True: deu, Predicted: nld, Text: \"  die polizeiorganisation europol koordinierte die operation.  \"\n",
      "*True: deu, Predicted: eng, Text: \"  erworben wird joey's von einem joint venture der britischen domino's pizza group dpg und der australischen domino's pizza enterprises dpe.  \"\n",
      "*True: deu, Predicted: nld, Text: \"  hij was de leider van de groep in de provincie khorasan van de islamitische staat.  \"\n",
      "*True: deu, Predicted: eng, Text: \"  jarjarthomas . jan theorethisch ist es simpel.  \"\n",
      "*True: deu, Predicted: nld, Text: \"  mit dabei ist nikolaj costerwaldau.  \"\n",
      "*True: deu, Predicted: eng, Text: \"  oder doch nsa, cia?  \"\n",
      "*True: deu, Predicted: eng, Text: \"  was ist wicop?  \"\n",
      "*True: deu, Predicted: nld, Text: \"  wat er nu gebeurt, is heel zwaar voor hem als jonge gast.  \"\n",
      "*True: eng, Predicted: nld, Text: \"  in asia, japan's nikkei .  \"\n",
      "*True: eng, Predicted: fra, Text: \"  internet trouble.  \"\n",
      "*True: eng, Predicted: nld, Text: \"  vancouver head coach willie desjardins.  \"\n",
      "*True: fra, Predicted: eng, Text: \"  novlanguehaliburton et donc dick cheyney ont du acheter short.  \"\n",
      "*True: fra, Predicted: deu, Text: \"  pinot gris, riesling et gewürztraminer donnent aussi quelques vins dignes de mention.  \"\n",
      "*True: fra, Predicted: eng, Text: \"  pedrorist : zaza le nounours sur ton bureau?  \"\n",
      "*True: fra, Predicted: nld, Text: \"  les anderlechtois devront avant tout museler ruud van nistelrooy.  \"\n",
      "*True: fra, Predicted: eng, Text: \"  salle wilfridpelletier, vendredi mars .  \"\n",
      "*True: fra, Predicted: eng, Text: \"  zaza le nounours : skizomeuh le edison, sur la nd street, dans downtown.  \"\n",
      "*True: fra, Predicted: nld, Text: \"  bert van marwijk ne sourit pas toujours.  \"\n",
      "*True: fra, Predicted: ita, Text: \"  'non non, il dit.  \"\n",
      "*True: fra, Predicted: nld, Text: \"  herman van rompuy bart de wever : ne traîne pas trop, zeg.  \"\n",
      "*True: fra, Predicted: eng, Text: \"  le dernier en date sintitule so appalled feat.  \"\n",
      "*True: fra, Predicted: deu, Text: \"  ben faut cracher, sinon passe ton chemin wenger!  \"\n",
      "*True: fra, Predicted: spa, Text: \"  ingenico: retenu par best buy en turquie.  \"\n",
      "*True: fra, Predicted: eng, Text: \"  ils portent des noms bizarres: ecosia, ethicle ou encore ekoolos.  \"\n",
      "*True: fra, Predicted: eng, Text: \"  il est disponible sous divers os : linux la distribution itlinux, comprenant firefox ., windows embedded ce internet explorer et windows embedded standard internet explorer .  \"\n",
      "*True: fra, Predicted: eng, Text: \"  actueilement, il enseigne à la city university of new york et collabore au webzine the daily beast.  \"\n",
      "*True: ita, Predicted: deu, Text: \"  sachsenring passo indietro per marco melandri al sachsenring.  \"\n",
      "*True: ita, Predicted: fra, Text: \"  champions o europa league?  \"\n",
      "*True: ita, Predicted: spa, Text: \"  premi alla carriera a brian yuzna e robert englund.  \"\n",
      "*True: ita, Predicted: eng, Text: \"  anche air france, klm, thai airways, easyjet e ryanair hanno oggi cancellato i voli.  \"\n",
      "*True: ita, Predicted: fra, Text: \"  durante la .a tappa del tour de france, saint gironscrête du lys, perde la vita fabio casartelli.  \"\n",
      "*True: ita, Predicted: eng, Text: \"  nucleare:iran, bushehr al via in estate yahoo!  \"\n",
      "*True: ita, Predicted: spa, Text: \"  banca italease recupera lo , a , euro.  \"\n",
      "*True: ita, Predicted: fra, Text: \"  bête sauvages del pubblicato dalla galleria lafayette.  \"\n",
      "*True: ita, Predicted: spa, Text: \"  buenos aires 'in cosa ti ho tradito?  \"\n",
      "*True: ita, Predicted: eng, Text: \"  chelsea west bromwich . domenica: liverpool arsenal ore ; lunedì: manchester utd newcastle ore .  \"\n",
      "*True: ita, Predicted: eng, Text: \"  a quale genere potrebbe appartenere the expendables?  \"\n",
      "*True: ita, Predicted: spa, Text: \"  arriva alvaro gonzalez, ennesimo talento made in uruguay.  \"\n",
      "*True: ita, Predicted: eng, Text: \"  honeywell conferma guidance vendite a ,, mld $ nel i trim.  \"\n",
      "*True: ita, Predicted: eng, Text: \"  wall street in deciso rosso.  \"\n",
      "*True: ita, Predicted: eng, Text: \"  le principali agenzie di rating sono moodys, standard poors, fitch.  \"\n",
      "*True: ita, Predicted: fra, Text: \"  finora i candidati alla successione del presidente rené préval.  \"\n",
      "*True: ita, Predicted: eng, Text: \"  anne hathaway mostra tutto.  \"\n",
      "*True: ita, Predicted: eng, Text: \"  naughty bear, ecco le modalità multiplayer!  \"\n",
      "*True: ita, Predicted: spa, Text: \"  non sono le madri dei desaparecidos a protestare nella plaza de mayo a buenos ayres, ma i veterani della guerra delle falkland.  \"\n",
      "*True: ita, Predicted: fra, Text: \"  nel realizza come regista les caprices d'un fleuve, con anna galiena.  \"\n",
      "*True: ita, Predicted: eng, Text: \"  roger waters: anche in europa 'the wall' dei pink floyd?  \"\n",
      "*True: ita, Predicted: fra, Text: \"  boccata d'aria in arrivo per japan airlines jal.  \"\n",
      "*True: ita, Predicted: spa, Text: \"  la terza base royals, per il futuro, sembra a posto con gordon e moustakas.  \"\n",
      "*True: ita, Predicted: nld, Text: \"  questi i quarti s.williamsli na, kvitovakanepi, zvonarevaclijsters, v.williamspironkova.  \"\n",
      "*True: nld, Predicted: eng, Text: \"  andere hoogtepunten uit deze hele reeks actiefilms waren mister majestyk the mechanic , death hunt to midnight en murphy's law .  \"\n",
      "*True: nld, Predicted: deu, Text: \"  bibliografie met zweedse titels skald och skolmästare.  \"\n",
      "*True: nld, Predicted: spa, Text: \"  biografie paulina is de dochter van enrique rubio en actrice susana dosamantes.  \"\n",
      "*True: nld, Predicted: deu, Text: \"  biografie shaul mofaz werd in in teheran geboren als shahram mofazzez zadeh.  \"\n",
      "*True: nld, Predicted: eng, Text: \"  breckenridge speelde in andere films, zoals loving annabelle, let them chirp awhile, the favor, beautiful loser, en amusement uit als shelby leds.  \"\n",
      "*True: nld, Predicted: deu, Text: \"  bubach telt inwoners.  \"\n",
      "*True: nld, Predicted: eng, Text: \"  de amerikaanse militaire naam was operation iraqi freedom.  \"\n",
      "*True: nld, Predicted: deu, Text: \"  de duitse zendeling karl gützlaff ging hierin ver. gützlaff ging werken voor britse handelshuizen die de opium naar kanton brachten.  \"\n",
      "*True: nld, Predicted: eng, Text: \"  de familie woonde in married quaters op ridout row, royal military college of canada.  \"\n",
      "*True: nld, Predicted: deu, Text: \"  de tekst op de ring is für verdienste um die kolonien.  \"\n",
      "*True: nld, Predicted: eng, Text: \"  de term werd bedacht door anthony downs in an economic theory of democracy uit .  \"\n",
      "*True: nld, Predicted: deu, Text: \"  de verenigingen gingen verder onder de naam verband deutscher verkehrsunternehmen vdv.  \"\n",
      "*True: nld, Predicted: ita, Text: \"  de volgende dorpen liggen in de gemeente belciugatele: belciugatele, cindeasca, cojești, măriuța en mataraua.  \"\n",
      "*True: nld, Predicted: ita, Text: \"  de volgende frazioni maken deel uit van de gemeente: anzio colonia, marechiaro, cincinnato, falasche, villa claudia, lavinio stazione, lavinio mare, padiglione, lido dei pini.  \"\n",
      "*True: nld, Predicted: ita, Text: \"  de volgende frazioni maken deel uit van de gemeente: bagnolo, vignola, rontagnano, strigara, montegelli, ponte uso, ponte rosso, montetiffi, s.maria riopetra, bivio montegelli.  \"\n",
      "*True: nld, Predicted: ita, Text: \"  de volgende frazioni maken deel uit van de gemeente: cerreto ratti, castel ratti, molo borbera, monteggio, persi, sorli.  \"\n",
      "*True: nld, Predicted: deu, Text: \"  dit betreft de namen a, b, c, süd, nord en mitte.  \"\n",
      "*True: nld, Predicted: eng, Text: \"  hearthfire is voor .  \"\n",
      "*True: nld, Predicted: deu, Text: \"  herbstmühle telt inwoners.  \"\n",
      "*True: nld, Predicted: eng, Text: \"  het duo werd the world's greatest tag team .  \"\n",
      "*True: nld, Predicted: eng, Text: \"  het spel heeft vier modi: exhibition, tournament, playoffs en league.  \"\n",
      "*True: nld, Predicted: deu, Text: \"  hierna nam de modeltreinenfabrikant märklin lgb op juli over.  \"\n",
      "*True: nld, Predicted: eng, Text: \"  in ging midnet op in connexxion.  \"\n",
      "*True: nld, Predicted: fra, Text: \"  levensloop jeanfrançois lafontaine was een zoon van jeanfrançoismichel lafontaine en van annematrie haquenne.  \"\n",
      "*True: nld, Predicted: spa, Text: \"  lópez mateos was een van mexico's populairdere en charismatische presidenten.  \"\n",
      "*True: nld, Predicted: deu, Text: \"  lüttchendorf telt inwoners.  \"\n",
      "*True: nld, Predicted: eng, Text: \"  mcgilligan over haar leven met eastwood schreef locke de memoir the good, the bad, and the very ugly.  \"\n",
      "*True: nld, Predicted: deu, Text: \"  mengutimur, ook wel möngke temür, gest.  \"\n",
      "*True: nld, Predicted: fra, Text: \"  mozes leidt de israëlieten naar het beloofde land, musée des beauxarts et d'archéologie de châlonsenchampagne.  \"\n",
      "*True: nld, Predicted: deu, Text: \"  na het succes van de samsung galaxy s is de samsung galaxy s plus gemaakt.  \"\n",
      "*True: nld, Predicted: eng, Text: \"  ook als medeauteur van boeken is hij bekend, zoals contemporary composers on contemporary music anthology, music since , electronic music: a listener's guide, the symphonies of ralph vaughan williams en music: ways of listening.  \"\n",
      "*True: nld, Predicted: deu, Text: \"  op degeröbörstskär zelf ligt nog een meertje ängen genaamd.  \"\n",
      "*True: nld, Predicted: eng, Text: \"  rond en trad hij op in wish you were here , peter greenaway 's prospero's books, swing en in de film the krays.  \"\n",
      "*True: nld, Predicted: deu, Text: \"  rudi paret: der koran, e editie, kohlhammer, stuttgart , pag. : wee hen die anderen tekort doen.  \"\n",
      "*True: nld, Predicted: eng, Text: \"  sunset boulevard heeft twee outdoor amfitheaters.  \"\n",
      "*True: nld, Predicted: deu, Text: \"  walter görlitz; p. e.v.. binnen het okw moest het wehrmachtführungsamt wfa het bureau voor bevelvoering van de nationale krijgsmacht, in operaties wehrmachtführungsstab, leiding geven aan de drie wehrmachtonderdelen.  \"\n",
      "*True: nld, Predicted: fra, Text: \"  wellicht was deze vondst de stimulans om in de société des amis des sciences, lettres et arts op te richten.  \"\n",
      "*True: nld, Predicted: deu, Text: \"  zumholz telt inwoners.  \"\n",
      "*True: spa, Predicted: ita, Text: \"  torre de control responde negativamente.  \"\n",
      "*True: spa, Predicted: ita, Text: \"  del beagle no he escrito nada.  \"\n",
      "*True: spa, Predicted: nld, Text: \"  en la ciudad alemana de leipzig.  \"\n",
      "*True: spa, Predicted: ita, Text: \"  se me puso la carne de gallina.  \"\n",
      "*True: spa, Predicted: fra, Text: \"  me parece bien.  \"\n",
      "*True: spa, Predicted: eng, Text: \"  all nippon airways recibe el primer boeing dreamliner tokio efe.  \"\n",
      "*True: spa, Predicted: eng, Text: \"  amy winehouse, su vida en imágenes fotos shaun curry afp muere amy winehouse.  \"\n",
      "*True: spa, Predicted: eng, Text: \"  en el primer equipo, denominado all stars team, fueron elegidos derrick rose chicago bulls, mvo de la fase regular, lebron james miami heat, kobe bryant los angeles lakers, dwight howard orlando magic y kevin durant oklahoma city thunders.  \"\n",
      "*True: spa, Predicted: eng, Text: \"  philip smith says: december th, at : pm hola, soy productor habitual de cerveza artesanal.  \"\n",
      "*True: spa, Predicted: fra, Text: \"  explique brevemente por qué.  \"\n",
      "*True: spa, Predicted: ita, Text: \"  pero no solo eso.  \"\n",
      "*True: spa, Predicted: eng, Text: \"  :: evideo, mar efe.  \"\n"
     ]
    }
   ],
   "source": [
    "# Test\n",
    "prediction_errors_list = []\n",
    "predictions = {language: [] for language in test.keys()}\n",
    "\n",
    "for language in test.keys():\n",
    "\tfor sentence in test[language]:\n",
    "\t\tprobs = []\n",
    "\t\tsentence = \"  \"+sentence+\"  \" # Add spaces to the beginning and end of the sentence for better results\n",
    "\t\tfor lingua in trigrams.keys():\n",
    "\t\t\tprob = probs_total(model=trigrams[lingua], text=sentence, b_value=b_value_dict[lingua], smooth=absolute_discounting, param=0.2, total_trigrams=totals[lingua])\n",
    "\t\t\tprobs.append((lingua, prob))\n",
    "\t\tmax_prob = max(probs, key = lambda x: x[1])\n",
    "\t\tpredictions[language].append(max_prob[0])\n",
    "\t\tif max_prob[0] != language:\n",
    "\t\t\tprediction_errors_list.append({\"text\": sentence, \"true\": language, \"pred\": max_prob[0]})\n",
    "\n",
    "# Calculate accuracy\n",
    "correct_predictions = {language: sum([1 for pred in predictions[language] if pred == language]) for language in test.keys()}\n",
    "total_accuracy = sum(correct_predictions.values()) / sum([len(value) for value in test.values()])\n",
    "\n",
    "# Print results\n",
    "print(f\"Total errors: {len(prediction_errors_list)} out of {sum([len(value) for value in test.values()])} sentences.\")\n",
    "print(f\"Total accuracy: {total_accuracy}\")\n",
    "for language, correct in correct_predictions.items():\n",
    "\tprint(f\"*Accuracy {language}: {correct / len(test[language])}\")\n",
    "\n",
    "# Confusion matrix\n",
    "from sklearn.metrics import confusion_matrix\n",
    "import matplotlib.pyplot as plt\n",
    "import seaborn as sns\n",
    "\n",
    "language_names = [language for language in test.keys()]\n",
    "\n",
    "cm = confusion_matrix(y_true=[language for language in test.keys() for _ in range(len(test[language]))],\n",
    "\t\t\t\t\t  y_pred=[pred for language in test.keys() for pred in predictions[language]],\n",
    "\t\t\t\t\t  labels=language_names)\n",
    "\n",
    "sns.heatmap(data=cm, annot=True, fmt=\"d\", xticklabels=language_names, yticklabels=language_names)\n",
    "plt.xlabel('Predicted values')\n",
    "plt.ylabel('Real values')\n",
    "plt.show()\n",
    "\n",
    "# Print the errors\n",
    "print(\"WRONG PREDICTIONS:\")\n",
    "for error in prediction_errors_list:\n",
    "\tprint(f\"*True: {error['true']}, Predicted: {error['pred']}, Text: \\\"{error['text']}\\\"\")"
   ]
  }
 ],
 "metadata": {
  "kernelspec": {
   "display_name": "Python 3",
   "language": "python",
   "name": "python3"
  },
  "language_info": {
   "codemirror_mode": {
    "name": "ipython",
    "version": 3
   },
   "file_extension": ".py",
   "mimetype": "text/x-python",
   "name": "python",
   "nbconvert_exporter": "python",
   "pygments_lexer": "ipython3",
   "version": "3.11.3"
  },
  "orig_nbformat": 4
 },
 "nbformat": 4,
 "nbformat_minor": 2
}
