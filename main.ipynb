{
 "cells": [
  {
   "cell_type": "markdown",
   "metadata": {},
   "source": [
    "# **PRÀCTICA 1: Identificació d'idioma**"
   ]
  },
  {
   "cell_type": "code",
   "execution_count": 1,
   "metadata": {},
   "outputs": [],
   "source": [
    "import math\n",
    "import nltk\n",
    "from nltk.collocations import TrigramCollocationFinder\n",
    "import json"
   ]
  },
  {
   "cell_type": "code",
   "execution_count": 2,
   "metadata": {},
   "outputs": [],
   "source": [
    "# Load trigrams and unique characters from json files\n",
    "def dict_string_to_tuple(d: dict) -> dict:\n",
    "    return {key: {tuple(k): v for k, v in value.items()} for key, value in d.items()}\n",
    "\n",
    "trigrams = dict_string_to_tuple(json.load(open('./weights/trigrams.json')))\n",
    "unique_chars = json.load(open('./weights/unique_chars.json'))"
   ]
  },
  {
   "cell_type": "code",
   "execution_count": 3,
   "metadata": {},
   "outputs": [],
   "source": [
    "# Dictionaries to optimize Lidstone smoothing calculation\n",
    "b_dict = {key: value ** 3 for key, value in unique_chars.items()}\n",
    "totals = {key: sum(trigrams[key].values()) for key in trigrams.keys()}\n",
    "# Functions for Lidstone smoothing\n",
    "def lidstone_smooth(language: str, trigram: tuple, lambda_value: float = 0.5):\n",
    "    counts = trigrams[language]\n",
    "    vocab = b_dict[language]\n",
    "    total = totals[language]\n",
    "    number = counts.get(trigram, 0)\n",
    "    probs = (number + lambda_value) / (total + lambda_value * vocab)\n",
    "    return probs\n",
    "\n",
    "def lidstone_total(text: str, language: str):\n",
    "    trigram_finder = TrigramCollocationFinder.from_words(text)\n",
    "    prob_sec = 0\n",
    "    for trigram, num_instances in trigram_finder.ngram_fd.items():\n",
    "        prob_sec += num_instances * math.log(lidstone_smooth(trigram=trigram, language=language))\n",
    "    return prob_sec"
   ]
  },
  {
   "cell_type": "code",
   "execution_count": 4,
   "metadata": {},
   "outputs": [
    {
     "name": "stdout",
     "output_type": "stream",
     "text": [
      "('eng_trn.txt', -49.787416303726516)\n"
     ]
    }
   ],
   "source": [
    "# Test the Lidstone smoothing\n",
    "text = 'Example'\n",
    "probs = []\n",
    "languages = {\"deu_trn.txt\": \"Deutsch (German)\", \n",
    "             \"eng_trn.txt\": \"English (English)\", \n",
    "             \"fra_trn.txt\": \"Français (French)\", \n",
    "             \"ita_trn.txt\": \"Italiano (Italian)\", \n",
    "             \"spa_trn.txt\": \"Español (Spanish)\", \n",
    "             \"nld_trn.txt\": \"Nederlands (Dutch)\"}\n",
    "for language in trigrams.keys():\n",
    "    prob = lidstone_total(text, language)\n",
    "    probs.append((language, prob))\n",
    "max_probs = max(probs, key = lambda x: x[1])\n",
    "print(max_probs)\n",
    "probs = sorted(probs, key = lambda x: x[1], reverse=True)"
   ]
  },
  {
   "cell_type": "code",
   "execution_count": 5,
   "metadata": {},
   "outputs": [
    {
     "name": "stdout",
     "output_type": "stream",
     "text": [
      "English (English): 79.88980661894925\n",
      "Français (French): 13.050489362263882\n",
      "Español (Spanish): 6.337352147331384\n",
      "Nederlands (Dutch): 0.6762405300571243\n",
      "Italiano (Italian): 0.041759620819945685\n",
      "Deutsch (German): 0.004351720578416145\n"
     ]
    }
   ],
   "source": [
    "# Normalize the probabilities and print the results\n",
    "exp = [math.exp(p[1] - max_probs[1]) for p in probs]\n",
    "normalize = [(e / sum (exp))*100 for e in exp]\n",
    "lang = [languages[p[0]] for p in probs]\n",
    "for e in range(len(lang)):\n",
    "    print(f\"{lang[e]}: {normalize[e]}\")"
   ]
  },
  {
   "cell_type": "code",
   "execution_count": 6,
   "metadata": {},
   "outputs": [],
   "source": [
    "# Load texts for test\n",
    "import os\n",
    "from train import preprocess_text\n",
    "test_original = {}\n",
    "directory = os.fsencode('./original_langId')\n",
    "for file in os.listdir(directory):\n",
    "    filename = os.fsdecode(file)\n",
    "    if 'trn' not in filename:\n",
    "        directoryname = os.fsdecode(directory)\n",
    "        with open(directoryname + '/' + filename, 'r', encoding=\"utf-8\") as file:\n",
    "            data = file.read()\n",
    "            test_original[filename] = data\n",
    "test_original = {key: [text for text in value.split(\"\\n\")] for key,value in test_original.items()}\n",
    "test_preprocessed = {key: [preprocess_text(text) for text in value] for key, value in test_original.items()}"
   ]
  },
  {
   "cell_type": "code",
   "execution_count": 7,
   "metadata": {},
   "outputs": [
    {
     "name": "stdout",
     "output_type": "stream",
     "text": [
      "84\n"
     ]
    }
   ],
   "source": [
    "# Test\n",
    "errors_list = []\n",
    "for lingua in test_original.keys():\n",
    "\tfor oration in test_original[lingua]:\n",
    "\t\tprobs = []\n",
    "\t\tfor language in trigrams.keys():\n",
    "\t\t\tprob = lidstone_total(oration, language)\n",
    "\t\t\tprobs.append((language, prob))\n",
    "\t\tmax_probs = max(probs, key = lambda x: x[1])\n",
    "\t\tif max_probs[0][:3] != lingua[:3]:\n",
    "\t\t\terrors_list.append(oration)\n",
    "\n",
    "print(len(errors_list))"
   ]
  },
  {
   "cell_type": "code",
   "execution_count": 9,
   "metadata": {},
   "outputs": [
    {
     "name": "stdout",
     "output_type": "stream",
     "text": [
      "   bildergalerie teilen der donkervoort d gto ist ja per se nicht gerade ein warmduscher-auto.\n",
      "   der stoffbeutel war leer.\n",
      "   hij was de leider van de groep in de provincie khorasan van de islamitische staat.\n",
      "   ist das land bald insolvent?\n",
      "   jarjarthomas . jan theorethisch ist es simpel.\n",
      "   kinder werden von fairplay-liga profitieren.\n",
      "   was ist wicop?\n",
      "   wat er nu gebeurt, is heel zwaar voor hem als jonge gast.\n",
      "   wednesday, january schnelles brainstorming online machen keine schlechte idee: online brainstorming.\n",
      "   google (goog) has one.\n",
      "   in asia, japan's nikkei (.\n",
      "   internet trouble.\n",
      "   vancouver head coach willie desjardins.\n",
      "  \n",
      "   novlanguehaliburton et donc dick cheyney ont du acheter \"short\".\n",
      "   les anderlechtois devront avant tout museler ruud van nistelrooy.\n",
      "   salle wilfrid-pelletier, vendredi mars .\n",
      "   zaza le nounours : skizomeuh> le edison, sur la nd street, dans downtown.\n",
      "   bert van marwijk ne sourit pas toujours.\n",
      "   'non non, il dit.\n",
      "   encore une star addict de twiiter!\n",
      "   herman van rompuy bart de wever : ne traîne pas trop, zeg.\n",
      "   son adversaire, andy murray, affrontera marin cilic en demi.\n",
      "   ben faut cracher, sinon passe ton chemin wenger!\n",
      "   ingenico: retenu par best buy en turquie.\n",
      "   enzo bricolo (page perso, ) le // à :.\n",
      "   wolseley: morgan stanley relève son objectif de cours.\n",
      "   il est disponible sous divers os : linux (la distribution itlinux, comprenant firefox .), windows embedded ce (internet explorer ) et windows embedded standard (internet explorer ).\n",
      "   actueilement, il enseigne à la city university of new york et collabore au webzine the daily beast.\n",
      "  \n",
      "   sachsenring - passo indietro per marco melandri al sachsenring.\n",
      "   champions o europa league?\n",
      "   stephen elop porta nel proprio curriculum nomi del calibro di juniper networks, adobe systems e macromedia.\n",
      "   premi alla carriera a brian yuzna e robert englund.\n",
      "   sotto accusa nexus one, hero, t-mobile g e droid eris.\n",
      "   anche air france, klm, thai airways, easyjet e ryanair hanno oggi cancellato i voli.\n",
      "   durante la .a tappa del tour de france, saint girons-crête du lys, perde la vita fabio casartelli.\n",
      "   chelsea - west bromwich -. domenica: liverpool - arsenal ore ; lunedì: manchester utd - newcastle ore .\n",
      "   a quale genere potrebbe appartenere \"the expendables\"?\"\n",
      "   arriva alvaro gonzalez, ennesimo talento made in uruguay.\n",
      "   honeywell conferma guidance vendite a ,-, mld $ nel i trim.\n",
      "   wall street in deciso rosso.\n",
      "   anne hathaway \"mostra tutto\".\n",
      "   naughty bear, ecco le modalità multiplayer!\n",
      "   non sono le madri dei desaparecidos a protestare nella plaza de mayo a buenos ayres, ma i veterani della guerra delle falkland.\n",
      "   \"dal sud\", dice.\n",
      "   roger waters: anche in europa 'the wall' dei pink floyd?\n",
      "   la terza base royals, per il futuro, sembra a posto con gordon e moustakas.\n",
      "  \n",
      "   biografie paulina is de dochter van enrique rubio en actrice susana dosamantes.\n",
      "   biografie shaul mofaz werd in in teheran geboren als shahram mofazzez zadeh.\n",
      "   breckenridge speelde in andere films, zoals loving annabelle, let them chirp awhile, the favor, beautiful loser, en amusement uit als shelby leds.\n",
      "   de familie woonde in married quaters op ridout row, royal military college of canada.\n",
      "   de term werd bedacht door anthony downs in an economic theory of democracy uit .\n",
      "   de verenigingen gingen verder onder de naam verband deutscher verkehrsunternehmen (vdv).\n",
      "   de volgende frazioni maken deel uit van de gemeente: anzio colonia, marechiaro, cincinnato, falasche, villa claudia, lavinio stazione, lavinio mare, padiglione, lido dei pini.\n",
      "   de volgende frazioni maken deel uit van de gemeente: bagnolo, vignola, rontagnano, strigara, montegelli, ponte uso, ponte rosso, montetiffi, s.maria riopetra, bivio montegelli.\n",
      "   de volgende frazioni maken deel uit van de gemeente: cerreto ratti, castel ratti, molo borbera, monteggio, persi, sorli.\n",
      "   dit betreft de namen a, b, c, süd, nord en mitte.\n",
      "   herbstmühle telt inwoners.\n",
      "   het duo werd the world's greatest tag team \".\n",
      "   het spel heeft vier modi: exhibition, tournament, playoffs en league.\n",
      "   hierna nam de modeltreinenfabrikant märklin lgb op juli over.\n",
      "   in ging midnet op in connexxion.\n",
      "   levensloop jean-françois lafontaine was een zoon van jean-françois-michel lafontaine en van anne-matrie haquenne.\n",
      "   lüttchendorf telt inwoners.\n",
      "   mcgilligan () over haar leven met eastwood schreef locke de memoir the good, the bad, and the very ugly.\n",
      "   \"my girl has gone\" werd onder andere gecoverd door bobby taylor, etienne daho en ken parker.\n",
      "   ook als (mede-)auteur van boeken is hij bekend, zoals contemporary composers on contemporary music anthology, music since , electronic music: a listener's guide, the symphonies of ralph vaughan williams en music: ways of listening.\n",
      "   \"op onze planeet..\n",
      "   rond en trad hij op in wish you were here (), peter greenaway 's prospero's books, swing en in de film the krays.\n",
      "   rudi paret: der koran, e editie, kohlhammer, stuttgart , pag. : wee hen die anderen tekort doen.\n",
      "   sunset boulevard heeft twee outdoor amfitheaters.\n",
      "   vikram \"vik\" sahay is een canadees acteur.\n",
      "   zumholz telt inwoners.\n",
      "  \n",
      "   torre de control responde negativamente.\n",
      "   del beagle no he escrito nada.\n",
      "   all nippon airways recibe el primer boeing dreamliner tokio (efe).\n",
      "   amy winehouse, su vida en imágenes fotos - shaun curry (afp) - -- muere amy winehouse.\n",
      "   philip smith says: december th, at : pm hola, soy productor habitual de cerveza artesanal.\n",
      "   explique brevemente por qué.\n",
      "   pero no solo eso.\n",
      "  \n"
     ]
    }
   ],
   "source": [
    "for e in errors_list:\n",
    "    print(e)"
   ]
  },
  {
   "cell_type": "code",
   "execution_count": 8,
   "metadata": {},
   "outputs": [
    {
     "name": "stdout",
     "output_type": "stream",
     "text": [
      "Palabra(s) siguiente(s) más probable(s) después de 'este es': un\n",
      "Probabilidad del trigram 'para demostrar cómo': 0.9903448275862069\n"
     ]
    }
   ],
   "source": [
    "import nltk\n",
    "from nltk.util import ngrams\n",
    "from nltk.lm.preprocessing import padded_everygram_pipeline\n",
    "from nltk.lm import KneserNeyInterpolated\n",
    "\n",
    "# Asegúrate de haber descargado los paquetes necesarios de NLTK la primera vez\n",
    "# nltk.download('punkt')\n",
    "\n",
    "# Ejemplo de texto para entrenar el modelo\n",
    "text = \"Este es un ejemplo de texto para demostrar cómo podemos aplicar suavizado de Kneser-Ney a trigramas. Este método ayuda a manejar n-gramas no observados.\"\n",
    "\n",
    "# Tokenización del texto\n",
    "tokens = nltk.word_tokenize(text, language='spanish')\n",
    "\n",
    "# Preparación de los datos para el modelo de trigramas\n",
    "train_data, padded_sents = padded_everygram_pipeline(3, [tokens])\n",
    "\n",
    "# Creación del modelo de trigramas con Kneser-Ney Smoothing\n",
    "model = KneserNeyInterpolated(3)  # El argumento es el orden del n-grama, 3 para trigramas\n",
    "\n",
    "# Entrenamiento del modelo con los datos preparados\n",
    "model.fit(train_data, padded_sents)\n",
    "\n",
    "# Ejemplo de uso del modelo para generar la siguiente palabra después de un contexto dado\n",
    "context = ['este', 'es']\n",
    "print(\"Palabra(s) siguiente(s) más probable(s) después de 'este es':\", model.generate(text_seed=context))\n",
    "\n",
    "# Probabilidad de un trigram específico\n",
    "trigram = ['para', 'demostrar', 'cómo']\n",
    "print(\"Probabilidad del trigram 'para demostrar cómo':\", model.score(trigram[-1], trigram[:-1]))\n"
   ]
  }
 ],
 "metadata": {
  "kernelspec": {
   "display_name": "Python 3",
   "language": "python",
   "name": "python3"
  },
  "language_info": {
   "codemirror_mode": {
    "name": "ipython",
    "version": 3
   },
   "file_extension": ".py",
   "mimetype": "text/x-python",
   "name": "python",
   "nbconvert_exporter": "python",
   "pygments_lexer": "ipython3",
   "version": "3.11.8"
  },
  "orig_nbformat": 4
 },
 "nbformat": 4,
 "nbformat_minor": 2
}
