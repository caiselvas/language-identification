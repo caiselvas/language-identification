{
 "cells": [
  {
   "cell_type": "markdown",
   "metadata": {},
   "source": [
    "# **PRÀCTICA 1: Identificació d'idioma**"
   ]
  },
  {
   "cell_type": "code",
   "execution_count": 1,
   "metadata": {},
   "outputs": [],
   "source": [
    "import re\n",
    "import os\n",
    "import math\n",
    "import nltk\n",
    "from nltk.collocations import TrigramCollocationFinder\n"
   ]
  },
  {
   "cell_type": "code",
   "execution_count": 2,
   "metadata": {},
   "outputs": [],
   "source": [
    "texts_original = {}\n",
    "directory = os.fsencode('./original_langId')\n",
    "for file in os.listdir(directory):\n",
    "\tfilename = os.fsdecode(file)\n",
    "\tdirectoryname = os.fsdecode(directory)\n",
    "\twith open(directoryname + '/' + filename, 'r', encoding=\"utf-8\") as file:\n",
    "\t\tdata = file.read()\n",
    "\t\ttexts_original[filename] = data\n",
    "\t"
   ]
  },
  {
   "cell_type": "code",
   "execution_count": 3,
   "metadata": {},
   "outputs": [],
   "source": [
    "def preprocess_text(text: str) -> str:\n",
    "    new_text = \"\"\n",
    "    sents = text.split('\\n')\n",
    "    for sent in sents:\n",
    "        sent.strip()\n",
    "        sent = sent.lower()\n",
    "        sent = re.sub(r'\\d', '', sent)\n",
    "        sent = re.sub(r'\\s+', ' ', sent)\n",
    "        new_text += \"  \" + sent\n",
    "    return new_text"
   ]
  },
  {
   "cell_type": "code",
   "execution_count": 4,
   "metadata": {},
   "outputs": [],
   "source": [
    "texts_new = {}\n",
    "for file, text in texts_original.items():\n",
    "    texts_new[file] = preprocess_text(text)\n",
    "    f = open(\"./new_langID/\" + file, \"w\", encoding=\"utf-8\")\n",
    "    f.write(texts_new[file])\n",
    "    f.close()"
   ]
  },
  {
   "cell_type": "code",
   "execution_count": 11,
   "metadata": {},
   "outputs": [],
   "source": [
    "trigrams = {}\n",
    "unique_chars = {}\n",
    "for language in texts_new.keys():\n",
    "\tif 'tst' not in language:\n",
    "\t\ttrigram_finder = TrigramCollocationFinder.from_words(texts_new[language])\n",
    "\t\ttmp = {key : value for key, value in trigram_finder.ngram_fd.items() if value > 5}\n",
    "\t\t\n",
    "\t\ttrigrams[language] = tmp\n",
    "\t\tunique_chars[language] = len(set(\"\".join(\"\".join(a) for a in tmp.keys())))\n"
   ]
  },
  {
   "cell_type": "code",
   "execution_count": 13,
   "metadata": {},
   "outputs": [
    {
     "name": "stdout",
     "output_type": "stream",
     "text": [
      "('nld_trn.txt', -699.8103507080053)\n"
     ]
    }
   ],
   "source": [
    "def lidstone_smooth(language: str, trigram: tuple, lambda_value: float = 0.5):\n",
    "    counts = trigrams[language]\n",
    "    vocab = unique_chars[language] ** 3\n",
    "    total = sum(counts.values())\n",
    "    try:\n",
    "        number = counts[trigram]\n",
    "    except:\n",
    "        number = 0\n",
    "    probs = (number + lambda_value) / (total + lambda_value * vocab)\n",
    "    return probs\n",
    "\n",
    "def lidstone_total(text: str, language: str):\n",
    "    trigram_finder = TrigramCollocationFinder.from_words(text)\n",
    "    prob_sec = 0\n",
    "    for trigram, num_instances in trigram_finder.ngram_fd.items():\n",
    "        prob_sec += num_instances * math.log(lidstone_smooth(trigram=trigram, language=language))\n",
    "    return prob_sec\n",
    "\n",
    "text = \"a pesar de la organización del movimiento, su paisano, abelande, critica la dispersión de las propuestas.   es decir, el bm entrega préstamos (evidentemente con elevados intereses que engrosan la deuda externa letal de los estados) a condición del cumplimiento de sus programas de ajuste estructural.   sin embargo, el juego no tenía construida una buena lan.\"\n",
    "max_prob = (\"None\", float(\"-inf\"))\n",
    "for language in trigrams.keys():\n",
    "    prob = lidstone_total(text, language)\n",
    "    if prob > max_prob[1]:\n",
    "        max_prob = (language, prob)\n",
    "print(max_prob)"
   ]
  },
  {
   "cell_type": "code",
   "execution_count": null,
   "metadata": {},
   "outputs": [],
   "source": [
    "import nltk\n",
    "from nltk.util import ngrams\n",
    "from nltk.lm.preprocessing import padded_everygram_pipeline\n",
    "from nltk.lm import KneserNeyInterpolated\n",
    "\n",
    "# Asegúrate de haber descargado los paquetes necesarios de NLTK la primera vez\n",
    "# nltk.download('punkt')\n",
    "\n",
    "# Ejemplo de texto para entrenar el modelo\n",
    "text = \"Este es un ejemplo de texto para demostrar cómo podemos aplicar suavizado de Kneser-Ney a trigramas. Este método ayuda a manejar n-gramas no observados.\"\n",
    "\n",
    "# Tokenización del texto\n",
    "tokens = nltk.word_tokenize(text, language='spanish')\n",
    "\n",
    "# Preparación de los datos para el modelo de trigramas\n",
    "train_data, padded_sents = padded_everygram_pipeline(3, [tokens])\n",
    "\n",
    "# Creación del modelo de trigramas con Kneser-Ney Smoothing\n",
    "model = KneserNeyInterpolated(3)  # El argumento es el orden del n-grama, 3 para trigramas\n",
    "\n",
    "# Entrenamiento del modelo con los datos preparados\n",
    "model.fit(train_data, padded_sents)\n",
    "\n",
    "# Ejemplo de uso del modelo para generar la siguiente palabra después de un contexto dado\n",
    "context = ['este', 'es']\n",
    "print(\"Palabra(s) siguiente(s) más probable(s) después de 'este es':\", model.generate(text_seed=context))\n",
    "\n",
    "# Probabilidad de un trigram específico\n",
    "trigram = ['para', 'demostrar', 'cómo']\n",
    "print(\"Probabilidad del trigram 'para demostrar cómo':\", model.score(trigram[-1], trigram[:-1]))\n"
   ]
  }
 ],
 "metadata": {
  "kernelspec": {
   "display_name": "Python 3",
   "language": "python",
   "name": "python3"
  },
  "language_info": {
   "codemirror_mode": {
    "name": "ipython",
    "version": 3
   },
   "file_extension": ".py",
   "mimetype": "text/x-python",
   "name": "python",
   "nbconvert_exporter": "python",
   "pygments_lexer": "ipython3",
   "version": "3.11.8"
  },
  "orig_nbformat": 4
 },
 "nbformat": 4,
 "nbformat_minor": 2
}
