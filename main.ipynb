{
 "cells": [
  {
   "cell_type": "markdown",
   "metadata": {},
   "source": [
    "# **PRÀCTICA 1: Identificació d'idioma**"
   ]
  },
  {
   "cell_type": "code",
   "execution_count": 1,
   "metadata": {},
   "outputs": [],
   "source": [
    "import re"
   ]
  },
  {
   "cell_type": "code",
   "execution_count": 4,
   "metadata": {},
   "outputs": [],
   "source": [
    "import os\n",
    "\n",
    "texts = {}\n",
    "directory = os.fsencode('./original_langId')\n",
    "for file in os.listdir(directory):\n",
    "\tfilename = os.fsdecode(file)\n",
    "\tdirectoryname = os.fsdecode(directory)\n",
    "\twith open(directoryname + '/' + filename, 'r', encoding=\"utf-8\") as file:\n",
    "\t\tdata = file.read()\n",
    "\t\ttexts[filename] = data\n",
    "\t"
   ]
  },
  {
   "cell_type": "code",
   "execution_count": 5,
   "metadata": {},
   "outputs": [],
   "source": [
    "def preprocess_text(text: str) -> str:\n",
    "    new_text = \"\"\n",
    "    sents = text.split('\\n')\n",
    "    for sent in sents:\n",
    "        sent.strip()\n",
    "        sent = sent.lower()\n",
    "        sent = re.sub(r'\\d', '', sent)\n",
    "        sent = re.sub(r'\\s+', ' ', sent)\n",
    "        new_text += \"  \" + sent\n",
    "    return new_text"
   ]
  },
  {
   "cell_type": "code",
   "execution_count": null,
   "metadata": {},
   "outputs": [],
   "source": [
    "for file, text in texts.items():\n",
    "    f = open(\"./new_langID/\" + file, \"w\", encoding=\"utf-8\")\n",
    "    f.write(preprocess_text(text))\n",
    "    f.close()"
   ]
  },
  {
   "cell_type": "code",
   "execution_count": null,
   "metadata": {},
   "outputs": [],
   "source": []
  }
 ],
 "metadata": {
  "kernelspec": {
   "display_name": "Python 3",
   "language": "python",
   "name": "python3"
  },
  "language_info": {
   "codemirror_mode": {
    "name": "ipython",
    "version": 3
   },
   "file_extension": ".py",
   "mimetype": "text/x-python",
   "name": "python",
   "nbconvert_exporter": "python",
   "pygments_lexer": "ipython3",
   "version": "3.11.2"
  },
  "orig_nbformat": 4
 },
 "nbformat": 4,
 "nbformat_minor": 2
}
