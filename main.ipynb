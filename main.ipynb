{
 "cells": [
  {
   "cell_type": "markdown",
   "metadata": {},
   "source": [
    "# **PRÀCTICA 1: Identificació d'idioma**"
   ]
  },
  {
   "cell_type": "markdown",
   "metadata": {},
   "source": [
    "# Main program"
   ]
  },
  {
   "cell_type": "markdown",
   "metadata": {},
   "source": [
    "## Setup"
   ]
  },
  {
   "cell_type": "code",
   "execution_count": 1,
   "metadata": {},
   "outputs": [],
   "source": [
    "import math\n",
    "import json\n",
    "from typing import Callable\n",
    "from functions import *"
   ]
  },
  {
   "cell_type": "code",
   "execution_count": 93,
   "metadata": {},
   "outputs": [],
   "source": [
    "# Load trigrams and unique characters from json files\n",
    "def dict_string_to_trigramtuple(d: dict) -> dict:\n",
    "    return {key: {tuple(k): v for k, v in value.items()} for key, value in d.items()}\n",
    "\n",
    "def refactor_validation(d: dict) -> dict:\n",
    "    return {key: ({tuple(k2): v2 for k2, v2 in value[0].items()}, value[1]) for key, value in d.items()}\n",
    "\n",
    "trigrams = dict_string_to_trigramtuple(json.load(open('./weights/trigrams.json')))\n",
    "unique_chars = json.load(open('./weights/unique_chars.json'))\n",
    "\n",
    "# Load preprocessed data (train and test)\n",
    "train = json.load(open('./preprocessed_langId/train.json'))\n",
    "test = json.load(open('./preprocessed_langId/test.json'))\n",
    "\n",
    "validation_trigrams = refactor_validation(json.load(open('./weights/validation_trigrams.json')))\n",
    "validation_unique = json.load(open('./weights/validation_unique_chars.json'))\n"
   ]
  },
  {
   "cell_type": "code",
   "execution_count": 87,
   "metadata": {},
   "outputs": [],
   "source": [
    "# Dictionaries to optimize Lidstone smoothing calculation\n",
    "b_value = max(unique_chars.values()) ** 3\n",
    "totals = {key: sum(trigrams[key].values()) for key in trigrams.keys()}"
   ]
  },
  {
   "cell_type": "code",
   "execution_count": 122,
   "metadata": {},
   "outputs": [
    {
     "name": "stdout",
     "output_type": "stream",
     "text": [
      "('fra', -133.35590708592295)\n",
      "Français (French): 96.05949515067003\n",
      "Español (Spanish): 3.9255175221722514\n",
      "Italiano (Italian): 0.00945753925780659\n",
      "English (English): 0.005393021167637193\n",
      "Nederlands (Dutch): 6.862330972248819e-05\n",
      "Deutsch (German): 6.81434225492881e-05\n"
     ]
    }
   ],
   "source": [
    "# Test the Lidstone smoothing\n",
    "text = '  on a su en profiter  '\n",
    "probs = []\n",
    "languages = {\"deu\": \"Deutsch (German)\", \n",
    "             \"eng\": \"English (English)\", \n",
    "             \"fra\": \"Français (French)\", \n",
    "             \"ita\": \"Italiano (Italian)\", \n",
    "             \"spa\": \"Español (Spanish)\", \n",
    "             \"nld\": \"Nederlands (Dutch)\"}\n",
    "total_trigrams = {key: sum(dicts.values()) for key, dicts in trigrams.items()}\n",
    "for language in trigrams.keys():\n",
    "    prob = probs_total(b_value=b_value, text=text, model=trigrams[language], total_trigrams=total_trigrams[language], smooth=absolute_discounting, param=0.1,)\n",
    "    probs.append((language, prob))\n",
    "max_probs = max(probs, key = lambda x: x[1])\n",
    "print(max_probs)\n",
    "probs = sorted(probs, key = lambda x: x[1], reverse=True)\n",
    "\n",
    "# Normalize the probabilities and print the results\n",
    "exp = [math.exp(p[1] - max_probs[1]) for p in probs]\n",
    "normalize = [(e / sum (exp))*100 for e in exp]\n",
    "lang = [languages[p[0]] for p in probs]\n",
    "for e in range(len(lang)):\n",
    "    print(f\"{lang[e]}: {normalize[e]}\")"
   ]
  },
  {
   "cell_type": "markdown",
   "metadata": {},
   "source": [
    "## Validation"
   ]
  },
  {
   "cell_type": "code",
   "execution_count": 124,
   "metadata": {},
   "outputs": [],
   "source": [
    "unique_trigrams = set()\n",
    "for k in trigrams.keys():\n",
    "    unique_trigrams.update(set(trigrams[k].keys()))\n",
    "\n",
    "def create_prob_dict(smooth: Callable = lidstone_smooth, param: float = 0.5, b_value: int = b_value, model: dict = trigrams, total: dict = totals, unique: set = unique_trigrams):\n",
    "    d = {}\n",
    "    for lang in languages.keys():\n",
    "        probab = {tri: math.log(smooth(param, trigram=tri, b_value=b_value, trigram_counts=model[lang], total_trigrams=total[lang])) for tri in unique}\n",
    "        d[lang] = probab\n",
    "    return d\n",
    "prob_dict = create_prob_dict()"
   ]
  },
  {
   "cell_type": "code",
   "execution_count": 40,
   "metadata": {},
   "outputs": [],
   "source": [
    "val_train = {key: value[0] for key, value in validation_trigrams.items()}\n",
    "val_test = {key: value[1] for key, value in validation_trigrams.items()}"
   ]
  },
  {
   "cell_type": "code",
   "execution_count": null,
   "metadata": {},
   "outputs": [],
   "source": [
    "def accuracy_validation(smooth: Callable = lidstone_smooth, param: float = 0.5):\n",
    "    validation_errors = []\n",
    "    totals_val = {key: sum(val_train[key].values()) for key in val_train.keys()}\n",
    "    probabilities = create_prob_dict(b_value=b_value, smooth=smooth, param=param, model=val_train, total=totals_val, unique=unique_trigrams)\n",
    "    for lang in languages.keys():\n",
    "        for sentence in val_test[lang]:\n",
    "            probs = []\n",
    "            for ling in languages.keys():\n",
    "                prob = probs_total(model = val_train[ling], param=param, text=sentence, smooth=smooth, b_value=b_value, probabilities=probabilities[ling], total_trigrams=totals_val[ling])\n",
    "                probs.append((ling, prob))\n",
    "            max_prob = max(probs, key = lambda x: x[1])\n",
    "            if max_prob[0] != lang:\n",
    "                validation_errors.append({\"text\": sentence, \"true\": lang, \"pred\": max_prob[0]})\n",
    "    return validation_errors"
   ]
  },
  {
   "cell_type": "code",
   "execution_count": 126,
   "metadata": {},
   "outputs": [
    {
     "name": "stdout",
     "output_type": "stream",
     "text": [
      "Iteration 0: alpha 0.05, smoothing lidstone_smooth\n"
     ]
    },
    {
     "ename": "KeyboardInterrupt",
     "evalue": "",
     "output_type": "error",
     "traceback": [
      "\u001b[1;31m---------------------------------------------------------------------------\u001b[0m",
      "\u001b[1;31mKeyboardInterrupt\u001b[0m                         Traceback (most recent call last)",
      "Cell \u001b[1;32mIn[126], line 9\u001b[0m\n\u001b[0;32m      7\u001b[0m \u001b[38;5;28;01mfor\u001b[39;00m alph \u001b[38;5;129;01min\u001b[39;00m alphas:\n\u001b[0;32m      8\u001b[0m     \u001b[38;5;28mprint\u001b[39m(\u001b[38;5;124mf\u001b[39m\u001b[38;5;124m\"\u001b[39m\u001b[38;5;124mIteration \u001b[39m\u001b[38;5;132;01m{\u001b[39;00mi\u001b[38;5;132;01m}\u001b[39;00m\u001b[38;5;124m: alpha \u001b[39m\u001b[38;5;132;01m{\u001b[39;00malph\u001b[38;5;132;01m}\u001b[39;00m\u001b[38;5;124m, smoothing \u001b[39m\u001b[38;5;132;01m{\u001b[39;00mfunc\u001b[38;5;241m.\u001b[39m\u001b[38;5;18m__name__\u001b[39m\u001b[38;5;132;01m}\u001b[39;00m\u001b[38;5;124m\"\u001b[39m)\n\u001b[1;32m----> 9\u001b[0m     err \u001b[38;5;241m=\u001b[39m \u001b[43maccuracy_validation\u001b[49m\u001b[43m(\u001b[49m\u001b[43mfunc\u001b[49m\u001b[43m,\u001b[49m\u001b[43m \u001b[49m\u001b[43malph\u001b[49m\u001b[43m)\u001b[49m\n\u001b[0;32m     10\u001b[0m     \u001b[38;5;28mprint\u001b[39m(\u001b[38;5;124mf\u001b[39m\u001b[38;5;124m\"\u001b[39m\u001b[38;5;132;01m{\u001b[39;00m\u001b[38;5;28mlen\u001b[39m(err)\u001b[38;5;132;01m}\u001b[39;00m\u001b[38;5;124m errors.\u001b[39m\u001b[38;5;124m\"\u001b[39m)\n\u001b[0;32m     11\u001b[0m     i \u001b[38;5;241m+\u001b[39m\u001b[38;5;241m=\u001b[39m \u001b[38;5;241m1\u001b[39m\n",
      "Cell \u001b[1;32mIn[125], line 10\u001b[0m, in \u001b[0;36maccuracy_validation\u001b[1;34m(smooth, param)\u001b[0m\n\u001b[0;32m      8\u001b[0m probs \u001b[38;5;241m=\u001b[39m []\n\u001b[0;32m      9\u001b[0m \u001b[38;5;28;01mfor\u001b[39;00m ling \u001b[38;5;129;01min\u001b[39;00m languages\u001b[38;5;241m.\u001b[39mkeys():\n\u001b[1;32m---> 10\u001b[0m     prob \u001b[38;5;241m=\u001b[39m \u001b[43mprobs_total\u001b[49m\u001b[43m(\u001b[49m\u001b[43mmodel\u001b[49m\u001b[43m \u001b[49m\u001b[38;5;241;43m=\u001b[39;49m\u001b[43m \u001b[49m\u001b[43mval_train\u001b[49m\u001b[43m,\u001b[49m\u001b[43m \u001b[49m\u001b[43mparam\u001b[49m\u001b[38;5;241;43m=\u001b[39;49m\u001b[43mparam\u001b[49m\u001b[43m,\u001b[49m\u001b[43m \u001b[49m\u001b[43mlanguage\u001b[49m\u001b[38;5;241;43m=\u001b[39;49m\u001b[43mling\u001b[49m\u001b[43m,\u001b[49m\u001b[43m \u001b[49m\u001b[43mtext\u001b[49m\u001b[38;5;241;43m=\u001b[39;49m\u001b[43msentence\u001b[49m\u001b[43m,\u001b[49m\u001b[43m \u001b[49m\u001b[43msmooth\u001b[49m\u001b[38;5;241;43m=\u001b[39;49m\u001b[43msmooth\u001b[49m\u001b[43m,\u001b[49m\u001b[43m \u001b[49m\u001b[43mb_value\u001b[49m\u001b[38;5;241;43m=\u001b[39;49m\u001b[43mb_values\u001b[49m\u001b[43m[\u001b[49m\u001b[43mling\u001b[49m\u001b[43m]\u001b[49m\u001b[43m,\u001b[49m\u001b[43m \u001b[49m\u001b[43mprobabilities\u001b[49m\u001b[38;5;241;43m=\u001b[39;49m\u001b[43mprobabilities\u001b[49m\u001b[43m,\u001b[49m\u001b[43m \u001b[49m\u001b[43mtotal_trigrams\u001b[49m\u001b[38;5;241;43m=\u001b[39;49m\u001b[43mtotals_val\u001b[49m\u001b[43m)\u001b[49m\n\u001b[0;32m     11\u001b[0m     probs\u001b[38;5;241m.\u001b[39mappend((ling, prob))\n\u001b[0;32m     12\u001b[0m max_prob \u001b[38;5;241m=\u001b[39m \u001b[38;5;28mmax\u001b[39m(probs, key \u001b[38;5;241m=\u001b[39m \u001b[38;5;28;01mlambda\u001b[39;00m x: x[\u001b[38;5;241m1\u001b[39m])\n",
      "Cell \u001b[1;32mIn[87], line 35\u001b[0m, in \u001b[0;36mprobs_total\u001b[1;34m(b_value, text, language, model, total_trigrams, smooth, param, probabilities)\u001b[0m\n\u001b[0;32m     34\u001b[0m \u001b[38;5;28;01mdef\u001b[39;00m \u001b[38;5;21mprobs_total\u001b[39m(b_value: \u001b[38;5;28mint\u001b[39m, text: \u001b[38;5;28mstr\u001b[39m, language: \u001b[38;5;28mstr\u001b[39m, model:\u001b[38;5;28mdict\u001b[39m , total_trigrams: \u001b[38;5;28mdict\u001b[39m, smooth: Callable \u001b[38;5;241m=\u001b[39m lidstone_smooth, param: \u001b[38;5;28mfloat\u001b[39m \u001b[38;5;241m=\u001b[39m \u001b[38;5;241m0.5\u001b[39m, probabilities: \u001b[38;5;28mdict\u001b[39m \u001b[38;5;241m=\u001b[39m \u001b[38;5;28;01mNone\u001b[39;00m):\n\u001b[1;32m---> 35\u001b[0m     trigram_finder \u001b[38;5;241m=\u001b[39m \u001b[43mTrigramCollocationFinder\u001b[49m\u001b[38;5;241;43m.\u001b[39;49m\u001b[43mfrom_words\u001b[49m\u001b[43m(\u001b[49m\u001b[43mtext\u001b[49m\u001b[43m)\u001b[49m\n\u001b[0;32m     36\u001b[0m     prob_sec \u001b[38;5;241m=\u001b[39m \u001b[38;5;241m0\u001b[39m\n\u001b[0;32m     37\u001b[0m     \u001b[38;5;28;01mif\u001b[39;00m probabilities \u001b[38;5;241m==\u001b[39m \u001b[38;5;28;01mNone\u001b[39;00m:\n",
      "File \u001b[1;32m~\\AppData\\Local\\Packages\\PythonSoftwareFoundation.Python.3.11_qbz5n2kfra8p0\\LocalCache\\local-packages\\Python311\\site-packages\\nltk\\collocations.py:238\u001b[0m, in \u001b[0;36mTrigramCollocationFinder.from_words\u001b[1;34m(cls, words, window_size)\u001b[0m\n\u001b[0;32m    236\u001b[0m \u001b[38;5;28;01mif\u001b[39;00m w2 \u001b[38;5;129;01mis\u001b[39;00m \u001b[38;5;28;01mNone\u001b[39;00m:\n\u001b[0;32m    237\u001b[0m     \u001b[38;5;28;01mcontinue\u001b[39;00m\n\u001b[1;32m--> 238\u001b[0m \u001b[43mbfd\u001b[49m\u001b[43m[\u001b[49m\u001b[43m(\u001b[49m\u001b[43mw1\u001b[49m\u001b[43m,\u001b[49m\u001b[43m \u001b[49m\u001b[43mw2\u001b[49m\u001b[43m)\u001b[49m\u001b[43m]\u001b[49m \u001b[38;5;241m+\u001b[39m\u001b[38;5;241m=\u001b[39m \u001b[38;5;241m1\u001b[39m\n\u001b[0;32m    239\u001b[0m \u001b[38;5;28;01mif\u001b[39;00m w3 \u001b[38;5;129;01mis\u001b[39;00m \u001b[38;5;28;01mNone\u001b[39;00m:\n\u001b[0;32m    240\u001b[0m     \u001b[38;5;28;01mcontinue\u001b[39;00m\n",
      "File \u001b[1;32m~\\AppData\\Local\\Packages\\PythonSoftwareFoundation.Python.3.11_qbz5n2kfra8p0\\LocalCache\\local-packages\\Python311\\site-packages\\nltk\\probability.py:126\u001b[0m, in \u001b[0;36mFreqDist.__setitem__\u001b[1;34m(self, key, val)\u001b[0m\n\u001b[0;32m    122\u001b[0m \u001b[38;5;250m\u001b[39m\u001b[38;5;124;03m\"\"\"\u001b[39;00m\n\u001b[0;32m    123\u001b[0m \u001b[38;5;124;03mOverride ``Counter.__setitem__()`` to invalidate the cached N\u001b[39;00m\n\u001b[0;32m    124\u001b[0m \u001b[38;5;124;03m\"\"\"\u001b[39;00m\n\u001b[0;32m    125\u001b[0m \u001b[38;5;28mself\u001b[39m\u001b[38;5;241m.\u001b[39m_N \u001b[38;5;241m=\u001b[39m \u001b[38;5;28;01mNone\u001b[39;00m\n\u001b[1;32m--> 126\u001b[0m \u001b[38;5;28msuper\u001b[39m()\u001b[38;5;241m.\u001b[39m\u001b[38;5;21m__setitem__\u001b[39m(key, val)\n",
      "\u001b[1;31mKeyboardInterrupt\u001b[0m: "
     ]
    }
   ],
   "source": [
    "smoothing_functions = [lidstone_smooth, linear_discounting, absolute_discounting]\n",
    "alphas = [0.05, 0.1, 0.2, 0.25, 0.3, 0.5, 0.7, 1]\n",
    "bees = [{key: value ** 3 for key, value in unique_chars.items()}, {key: len(value) for key, value in trigrams.items()}, {key: ((value ** 3)+len(trigrams[key]))/2 for key, value in unique_chars.items()}]\n",
    "\n",
    "i = 0\n",
    "for func in smoothing_functions:\n",
    "    for alph in alphas:\n",
    "        if alph == 1 and (func == linear_discounting or func == absolute_discounting):\n",
    "            break\n",
    "        print(f\"Iteration {i}: alpha {alph}, smoothing {func.__name__}\")\n",
    "        err = accuracy_validation(func, alph)\n",
    "        print(f\"{len(err)} errors.\")\n",
    "        i += 1\n"
   ]
  },
  {
   "cell_type": "markdown",
   "metadata": {},
   "source": [
    "## Test"
   ]
  },
  {
   "cell_type": "code",
   "execution_count": 121,
   "metadata": {},
   "outputs": [
    {
     "name": "stdout",
     "output_type": "stream",
     "text": [
      "Total errors: 65 out of 59977 sentences.\n",
      "Total accuracy: 0.998916251229638\n",
      "*Accuracy deu: 0.9991991991991992\n",
      "*Accuracy eng: 0.99969960949234\n",
      "*Accuracy fra: 0.9989\n",
      "*Accuracy ita: 0.9987\n",
      "*Accuracy nld: 0.9981\n",
      "*Accuracy spa: 0.9989\n"
     ]
    },
    {
     "data": {
      "image/png": "[encoded data removed]",
      "text/plain": [
       "<Figure size 640x480 with 2 Axes>"
      ]
     },
     "metadata": {},
     "output_type": "display_data"
    },
    {
     "name": "stdout",
     "output_type": "stream",
     "text": [
      "WRONG PREDICTIONS:\n",
      "*True: deu, Predicted: spa, Text: \"  autos wie den dacia sandero.  \"\n",
      "*True: deu, Predicted: nld, Text: \"  b. angioödem, stevensjohnsonsyndrom, toxische epidermale nekrolyse gegen lenalidomid gezeigt haben.  \"\n",
      "*True: deu, Predicted: eng, Text: \"  darunter das restaurant mappamondo und der takeawaybetrieb the beef burger.  \"\n",
      "*True: deu, Predicted: nld, Text: \"  der stoffbeutel war leer.  \"\n",
      "*True: deu, Predicted: nld, Text: \"  hij was de leider van de groep in de provincie khorasan van de islamitische staat.  \"\n",
      "*True: deu, Predicted: eng, Text: \"  jarjarthomas . jan theorethisch ist es simpel.  \"\n",
      "*True: deu, Predicted: eng, Text: \"  was ist wicop?  \"\n",
      "*True: deu, Predicted: nld, Text: \"  wat er nu gebeurt, is heel zwaar voor hem als jonge gast.  \"\n",
      "*True: eng, Predicted: nld, Text: \"  in asia, japan's nikkei .  \"\n",
      "*True: eng, Predicted: fra, Text: \"  internet trouble.  \"\n",
      "*True: eng, Predicted: nld, Text: \"  vancouver head coach willie desjardins.  \"\n",
      "*True: fra, Predicted: nld, Text: \"  les anderlechtois devront avant tout museler ruud van nistelrooy.  \"\n",
      "*True: fra, Predicted: ita, Text: \"  enfin, l'impeccable déroulé de la prestation des quatre musiciens rava, trompette, giovanni guidi, piano, gabriele evangelista, contrebasse, et fabrizio sferra, batterie.  \"\n",
      "*True: fra, Predicted: eng, Text: \"  martin luther king, ctait une commande, prcisetil.  \"\n",
      "*True: fra, Predicted: nld, Text: \"  bert van marwijk ne sourit pas toujours.  \"\n",
      "*True: fra, Predicted: ita, Text: \"  'non non, il dit.  \"\n",
      "*True: fra, Predicted: nld, Text: \"  herman van rompuy bart de wever : ne traîne pas trop, zeg.  \"\n",
      "*True: fra, Predicted: deu, Text: \"  ben faut cracher, sinon passe ton chemin wenger!  \"\n",
      "*True: fra, Predicted: ita, Text: \"  enzo bricolo page perso, le à :.  \"\n",
      "*True: fra, Predicted: eng, Text: \"  wolseley: morgan stanley relève son objectif de cours.  \"\n",
      "*True: fra, Predicted: eng, Text: \"  il est disponible sous divers os : linux la distribution itlinux, comprenant firefox ., windows embedded ce internet explorer et windows embedded standard internet explorer .  \"\n",
      "*True: fra, Predicted: eng, Text: \"  actueilement, il enseigne à la city university of new york et collabore au webzine the daily beast.  \"\n",
      "*True: ita, Predicted: deu, Text: \"  sachsenring passo indietro per marco melandri al sachsenring.  \"\n",
      "*True: ita, Predicted: fra, Text: \"  champions o europa league?  \"\n",
      "*True: ita, Predicted: fra, Text: \"  durante la .a tappa del tour de france, saint gironscrête du lys, perde la vita fabio casartelli.  \"\n",
      "*True: ita, Predicted: spa, Text: \"  banca italease recupera lo , a , euro.  \"\n",
      "*True: ita, Predicted: fra, Text: \"  tra queste credit suisse segnala brystol e myers squibb.  \"\n",
      "*True: ita, Predicted: spa, Text: \"  buenos aires 'in cosa ti ho tradito?  \"\n",
      "*True: ita, Predicted: eng, Text: \"  chelsea west bromwich . domenica: liverpool arsenal ore ; lunedì: manchester utd newcastle ore .  \"\n",
      "*True: ita, Predicted: eng, Text: \"  a quale genere potrebbe appartenere the expendables?  \"\n",
      "*True: ita, Predicted: spa, Text: \"  arriva alvaro gonzalez, ennesimo talento made in uruguay.  \"\n",
      "*True: ita, Predicted: eng, Text: \"  wall street in deciso rosso.  \"\n",
      "*True: ita, Predicted: eng, Text: \"  anne hathaway mostra tutto.  \"\n",
      "*True: ita, Predicted: eng, Text: \"  roger waters: anche in europa 'the wall' dei pink floyd?  \"\n",
      "*True: ita, Predicted: spa, Text: \"  la terza base royals, per il futuro, sembra a posto con gordon e moustakas.  \"\n",
      "*True: nld, Predicted: spa, Text: \"  biografie paulina is de dochter van enrique rubio en actrice susana dosamantes.  \"\n",
      "*True: nld, Predicted: deu, Text: \"  biografie shaul mofaz werd in in teheran geboren als shahram mofazzez zadeh.  \"\n",
      "*True: nld, Predicted: eng, Text: \"  breckenridge speelde in andere films, zoals loving annabelle, let them chirp awhile, the favor, beautiful loser, en amusement uit als shelby leds.  \"\n",
      "*True: nld, Predicted: eng, Text: \"  de familie woonde in married quaters op ridout row, royal military college of canada.  \"\n",
      "*True: nld, Predicted: eng, Text: \"  de term werd bedacht door anthony downs in an economic theory of democracy uit .  \"\n",
      "*True: nld, Predicted: deu, Text: \"  de verenigingen gingen verder onder de naam verband deutscher verkehrsunternehmen vdv.  \"\n",
      "*True: nld, Predicted: ita, Text: \"  de volgende frazioni maken deel uit van de gemeente: anzio colonia, marechiaro, cincinnato, falasche, villa claudia, lavinio stazione, lavinio mare, padiglione, lido dei pini.  \"\n",
      "*True: nld, Predicted: ita, Text: \"  de volgende frazioni maken deel uit van de gemeente: bagnolo, vignola, rontagnano, strigara, montegelli, ponte uso, ponte rosso, montetiffi, s.maria riopetra, bivio montegelli.  \"\n",
      "*True: nld, Predicted: ita, Text: \"  de volgende frazioni maken deel uit van de gemeente: cerreto ratti, castel ratti, molo borbera, monteggio, persi, sorli.  \"\n",
      "*True: nld, Predicted: deu, Text: \"  dit betreft de namen a, b, c, süd, nord en mitte.  \"\n",
      "*True: nld, Predicted: deu, Text: \"  herbstmühle telt inwoners.  \"\n",
      "*True: nld, Predicted: eng, Text: \"  het duo werd the world's greatest tag team .  \"\n",
      "*True: nld, Predicted: eng, Text: \"  het spel heeft vier modi: exhibition, tournament, playoffs en league.  \"\n",
      "*True: nld, Predicted: eng, Text: \"  in ging midnet op in connexxion.  \"\n",
      "*True: nld, Predicted: eng, Text: \"  mcgilligan over haar leven met eastwood schreef locke de memoir the good, the bad, and the very ugly.  \"\n",
      "*True: nld, Predicted: eng, Text: \"  ook als medeauteur van boeken is hij bekend, zoals contemporary composers on contemporary music anthology, music since , electronic music: a listener's guide, the symphonies of ralph vaughan williams en music: ways of listening.  \"\n",
      "*True: nld, Predicted: eng, Text: \"  rond en trad hij op in wish you were here , peter greenaway 's prospero's books, swing en in de film the krays.  \"\n",
      "*True: nld, Predicted: deu, Text: \"  rudi paret: der koran, e editie, kohlhammer, stuttgart , pag. : wee hen die anderen tekort doen.  \"\n",
      "*True: nld, Predicted: eng, Text: \"  sunset boulevard heeft twee outdoor amfitheaters.  \"\n",
      "*True: spa, Predicted: ita, Text: \"  torre de control responde negativamente.  \"\n",
      "*True: spa, Predicted: ita, Text: \"  del beagle no he escrito nada.  \"\n",
      "*True: spa, Predicted: ita, Text: \"  se me puso la carne de gallina.  \"\n",
      "*True: spa, Predicted: fra, Text: \"  me parece bien.  \"\n",
      "*True: spa, Predicted: eng, Text: \"  all nippon airways recibe el primer boeing dreamliner tokio efe.  \"\n",
      "*True: spa, Predicted: eng, Text: \"  amy winehouse, su vida en imágenes fotos shaun curry afp muere amy winehouse.  \"\n",
      "*True: spa, Predicted: ita, Text: \"  ю. левянт moscú, de febrero, ria novosti.  \"\n",
      "*True: spa, Predicted: eng, Text: \"  en el primer equipo, denominado all stars team, fueron elegidos derrick rose chicago bulls, mvo de la fase regular, lebron james miami heat, kobe bryant los angeles lakers, dwight howard orlando magic y kevin durant oklahoma city thunders.  \"\n",
      "*True: spa, Predicted: eng, Text: \"  philip smith says: december th, at : pm hola, soy productor habitual de cerveza artesanal.  \"\n",
      "*True: spa, Predicted: fra, Text: \"  explique brevemente por qué.  \"\n",
      "*True: spa, Predicted: ita, Text: \"  pero no solo eso.  \"\n"
     ]
    }
   ],
   "source": [
    "# Test\n",
    "prediction_errors_list = []\n",
    "predictions = {language: [] for language in test.keys()}\n",
    "\n",
    "for language in test.keys():\n",
    "\tfor sentence in test[language]:\n",
    "\t\tprobs = []\n",
    "\t\tsentence = \"  \"+sentence+\"  \" # Add spaces to the beginning and end of the sentence for better results\n",
    "\t\tfor lingua in trigrams.keys():\n",
    "\t\t\tprob = probs_total(model=trigrams, text=sentence, b_value=b_value, smooth=absolute_discounting, param=0.2, total_trigrams=totals[lingua])\n",
    "\t\t\tprobs.append((lingua, prob))\n",
    "\t\tmax_prob = max(probs, key = lambda x: x[1])\n",
    "\t\tpredictions[language].append(max_prob[0])\n",
    "\t\tif max_prob[0] != language:\n",
    "\t\t\tprediction_errors_list.append({\"text\": sentence, \"true\": language, \"pred\": max_prob[0]})\n",
    "\n",
    "# Calculate accuracy\n",
    "correct_predictions = {language: sum([1 for pred in predictions[language] if pred == language]) for language in test.keys()}\n",
    "total_accuracy = sum(correct_predictions.values()) / sum([len(value) for value in test.values()])\n",
    "\n",
    "# Print results\n",
    "print(f\"Total errors: {len(prediction_errors_list)} out of {sum([len(value) for value in test.values()])} sentences.\")\n",
    "print(f\"Total accuracy: {total_accuracy}\")\n",
    "for language, correct in correct_predictions.items():\n",
    "\tprint(f\"*Accuracy {language}: {correct / len(test[language])}\")\n",
    "\n",
    "# Confusion matrix\n",
    "from sklearn.metrics import confusion_matrix\n",
    "import matplotlib.pyplot as plt\n",
    "import seaborn as sns\n",
    "\n",
    "language_names = [language for language in test.keys()]\n",
    "\n",
    "cm = confusion_matrix(y_true=[language for language in test.keys() for _ in range(len(test[language]))],\n",
    "\t\t\t\t\t  y_pred=[pred for language in test.keys() for pred in predictions[language]],\n",
    "\t\t\t\t\t  labels=language_names)\n",
    "\n",
    "sns.heatmap(data=cm, annot=True, fmt=\"d\", xticklabels=language_names, yticklabels=language_names)\n",
    "plt.xlabel('Predicted values')\n",
    "plt.ylabel('Real values')\n",
    "plt.show()\n",
    "\n",
    "# Print the errors\n",
    "print(\"WRONG PREDICTIONS:\")\n",
    "for error in prediction_errors_list:\n",
    "\tprint(f\"*True: {error['true']}, Predicted: {error['pred']}, Text: \\\"{error['text']}\\\"\")"
   ]
  }
 ],
 "metadata": {
  "kernelspec": {
   "display_name": "Python 3",
   "language": "python",
   "name": "python3"
  },
  "language_info": {
   "codemirror_mode": {
    "name": "ipython",
    "version": 3
   },
   "file_extension": ".py",
   "mimetype": "text/x-python",
   "name": "python",
   "nbconvert_exporter": "python",
   "pygments_lexer": "ipython3",
   "version": "3.11.2"
  },
  "orig_nbformat": 4
 },
 "nbformat": 4,
 "nbformat_minor": 2
}
