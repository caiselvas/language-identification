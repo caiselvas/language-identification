{
 "cells": [
  {
   "cell_type": "markdown",
   "metadata": {},
   "source": [
    "# **PRÀCTICA 1: Identificació d'idioma**"
   ]
  },
  {
   "cell_type": "code",
   "execution_count": 1,
   "metadata": {},
   "outputs": [],
   "source": [
    "import math\n",
    "import nltk\n",
    "from nltk.collocations import TrigramCollocationFinder\n",
    "import json"
   ]
  },
  {
   "cell_type": "code",
   "execution_count": 3,
   "metadata": {},
   "outputs": [],
   "source": [
    "# Load trigrams and unique characters from json files\n",
    "def dict_string_to_tuple(d: dict) -> dict:\n",
    "    return {key: {tuple(k): v for k, v in value.items()} for key, value in d.items()}\n",
    "\n",
    "trigrams = dict_string_to_tuple(json.load(open('./weights/trigrams.json')))\n",
    "unique_chars = json.load(open('./weights/unique_chars.json'))"
   ]
  },
  {
   "cell_type": "code",
   "execution_count": 4,
   "metadata": {},
   "outputs": [],
   "source": [
    "# Functions for Lidstone smoothing\n",
    "def lidstone_smooth(language: str, trigram: tuple, lambda_value: float = 0.5):\n",
    "    counts = trigrams[language]\n",
    "    vocab = unique_chars[language] ** 3\n",
    "    total = sum(counts.values())\n",
    "    try:\n",
    "        number = counts[trigram]\n",
    "    except:\n",
    "        number = 0\n",
    "    probs = (number + lambda_value) / (total + lambda_value * vocab)\n",
    "    return probs\n",
    "\n",
    "def lidstone_total(text: str, language: str):\n",
    "    trigram_finder = TrigramCollocationFinder.from_words(text)\n",
    "    prob_sec = 0\n",
    "    for trigram, num_instances in trigram_finder.ngram_fd.items():\n",
    "        prob_sec += num_instances * math.log(lidstone_smooth(trigram=trigram, language=language))\n",
    "    return prob_sec"
   ]
  },
  {
   "cell_type": "code",
   "execution_count": 7,
   "metadata": {},
   "outputs": [
    {
     "name": "stdout",
     "output_type": "stream",
     "text": [
      "('eng_trn.txt', -49.787416303726516)\n"
     ]
    }
   ],
   "source": [
    "# Test the Lidstone smoothing\n",
    "text = 'Example'\n",
    "probs = []\n",
    "languages = {\"deu_trn.txt\": \"Deutsch (German)\", \n",
    "             \"eng_trn.txt\": \"English (English)\", \n",
    "             \"fra_trn.txt\": \"Français (French)\", \n",
    "             \"ita_trn.txt\": \"Italiano (Italian)\", \n",
    "             \"spa_trn.txt\": \"Español (Spanish)\", \n",
    "             \"nld_trn.txt\": \"Nederlands (Dutch)\"}\n",
    "for language in trigrams.keys():\n",
    "    prob = lidstone_total(text, language)\n",
    "    probs.append((language, prob))\n",
    "max_probs = max(probs, key = lambda x: x[1])\n",
    "print(max_probs)\n",
    "probs = sorted(probs, key = lambda x: x[1], reverse=True)"
   ]
  },
  {
   "cell_type": "code",
   "execution_count": 8,
   "metadata": {},
   "outputs": [
    {
     "name": "stdout",
     "output_type": "stream",
     "text": [
      "English (English): 79.88980661894925\n",
      "Français (French): 13.050489362263882\n",
      "Español (Spanish): 6.337352147331384\n",
      "Nederlands (Dutch): 0.6762405300571243\n",
      "Italiano (Italian): 0.041759620819945685\n",
      "Deutsch (German): 0.004351720578416145\n"
     ]
    }
   ],
   "source": [
    "# Normalize the probabilities and print the results\n",
    "exp = [math.exp(p[1] - max_probs[1]) for p in probs]\n",
    "normalize = [(e / sum (exp))*100 for e in exp]\n",
    "lang = [languages[p[0]] for p in probs]\n",
    "for e in range(len(lang)):\n",
    "    print(f\"{lang[e]}: {normalize[e]}\")"
   ]
  },
  {
   "cell_type": "code",
   "execution_count": 9,
   "metadata": {},
   "outputs": [
    {
     "name": "stdout",
     "output_type": "stream",
     "text": [
      "Palabra(s) siguiente(s) más probable(s) después de 'este es': un\n",
      "Probabilidad del trigram 'para demostrar cómo': 0.9903448275862069\n"
     ]
    }
   ],
   "source": [
    "import nltk\n",
    "from nltk.util import ngrams\n",
    "from nltk.lm.preprocessing import padded_everygram_pipeline\n",
    "from nltk.lm import KneserNeyInterpolated\n",
    "\n",
    "# Asegúrate de haber descargado los paquetes necesarios de NLTK la primera vez\n",
    "# nltk.download('punkt')\n",
    "\n",
    "# Ejemplo de texto para entrenar el modelo\n",
    "text = \"Este es un ejemplo de texto para demostrar cómo podemos aplicar suavizado de Kneser-Ney a trigramas. Este método ayuda a manejar n-gramas no observados.\"\n",
    "\n",
    "# Tokenización del texto\n",
    "tokens = nltk.word_tokenize(text, language='spanish')\n",
    "\n",
    "# Preparación de los datos para el modelo de trigramas\n",
    "train_data, padded_sents = padded_everygram_pipeline(3, [tokens])\n",
    "\n",
    "# Creación del modelo de trigramas con Kneser-Ney Smoothing\n",
    "model = KneserNeyInterpolated(3)  # El argumento es el orden del n-grama, 3 para trigramas\n",
    "\n",
    "# Entrenamiento del modelo con los datos preparados\n",
    "model.fit(train_data, padded_sents)\n",
    "\n",
    "# Ejemplo de uso del modelo para generar la siguiente palabra después de un contexto dado\n",
    "context = ['este', 'es']\n",
    "print(\"Palabra(s) siguiente(s) más probable(s) después de 'este es':\", model.generate(text_seed=context))\n",
    "\n",
    "# Probabilidad de un trigram específico\n",
    "trigram = ['para', 'demostrar', 'cómo']\n",
    "print(\"Probabilidad del trigram 'para demostrar cómo':\", model.score(trigram[-1], trigram[:-1]))\n"
   ]
  }
 ],
 "metadata": {
  "kernelspec": {
   "display_name": "Python 3",
   "language": "python",
   "name": "python3"
  },
  "language_info": {
   "codemirror_mode": {
    "name": "ipython",
    "version": 3
   },
   "file_extension": ".py",
   "mimetype": "text/x-python",
   "name": "python",
   "nbconvert_exporter": "python",
   "pygments_lexer": "ipython3",
   "version": "3.11.2"
  },
  "orig_nbformat": 4
 },
 "nbformat": 4,
 "nbformat_minor": 2
}
